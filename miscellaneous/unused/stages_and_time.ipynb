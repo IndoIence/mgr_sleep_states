{
 "cells": [
  {
   "cell_type": "code",
   "execution_count": 1,
   "metadata": {
    "collapsed": true,
    "pycharm": {
     "is_executing": true
    },
    "ExecuteTime": {
     "end_time": "2023-05-31T13:10:27.756186546Z",
     "start_time": "2023-05-31T13:10:27.090972565Z"
    }
   },
   "outputs": [],
   "source": [
    "import matplotlib.pyplot as plt\n",
    "import pywt\n",
    "import mne\n",
    "import numpy as np\n",
    "import pandas as pd"
   ]
  },
  {
   "cell_type": "code",
   "execution_count": 2,
   "outputs": [],
   "source": [
    "WAVELETNAME = 'morl'\n",
    "edf_dir = r\"Jean-Pol_repaired_headers\"\n",
    "from MyEDFImports import import_ecg, get_edf_filenames\n",
    "\n",
    "edfs_names = get_edf_filenames()"
   ],
   "metadata": {
    "collapsed": false,
    "ExecuteTime": {
     "end_time": "2023-05-31T13:10:27.760135575Z",
     "start_time": "2023-05-31T13:10:27.756787878Z"
    }
   }
  },
  {
   "cell_type": "code",
   "execution_count": 3,
   "outputs": [],
   "source": [
    "#Here I want to get stages and the date that the stages took place in\n",
    "def date_from_comment(file):\n",
    "    with open(file) as f:\n",
    "        for line in f:\n",
    "            if line.startswith(\"% night =\"):\n",
    "                return line[-11:-1]\n"
   ],
   "metadata": {
    "collapsed": false,
    "ExecuteTime": {
     "end_time": "2023-05-31T13:10:27.778754362Z",
     "start_time": "2023-05-31T13:10:27.762737308Z"
    }
   }
  },
  {
   "cell_type": "markdown",
   "source": [
    "Getting stages from one file with dates"
   ],
   "metadata": {
    "collapsed": false
   }
  },
  {
   "cell_type": "code",
   "execution_count": 4,
   "outputs": [
    {
     "name": "stderr",
     "output_type": "stream",
     "text": [
      "/tmp/ipykernel_5280/2837210468.py:2: UserWarning: Parsing dates in DD/MM/YYYY format when dayfirst=False (the default) was specified. This may lead to inconsistently parsed dates! Specify a format to ensure consistent parsing.\n",
      "  record_day = pd.to_datetime(date_from_comment(name))\n"
     ]
    },
    {
     "data": {
      "text/plain": "                     Time  stage\nIndex                           \n0     2005-11-29 21:35:12      0\n1     2005-11-29 21:35:32      0\n2     2005-11-29 21:35:52      0\n3     2005-11-29 21:36:12      0\n4     2005-11-29 21:36:32      0\n...                   ...    ...\n2002  2005-11-29 08:42:32      0\n2003  2005-11-29 08:42:52      0\n2004  2005-11-29 08:43:12      0\n2005  2005-11-29 08:43:32      0\n2006  2005-11-29 08:43:52      0\n\n[2007 rows x 2 columns]",
      "text/html": "<div>\n<style scoped>\n    .dataframe tbody tr th:only-of-type {\n        vertical-align: middle;\n    }\n\n    .dataframe tbody tr th {\n        vertical-align: top;\n    }\n\n    .dataframe thead th {\n        text-align: right;\n    }\n</style>\n<table border=\"1\" class=\"dataframe\">\n  <thead>\n    <tr style=\"text-align: right;\">\n      <th></th>\n      <th>Time</th>\n      <th>stage</th>\n    </tr>\n    <tr>\n      <th>Index</th>\n      <th></th>\n      <th></th>\n    </tr>\n  </thead>\n  <tbody>\n    <tr>\n      <th>0</th>\n      <td>2005-11-29 21:35:12</td>\n      <td>0</td>\n    </tr>\n    <tr>\n      <th>1</th>\n      <td>2005-11-29 21:35:32</td>\n      <td>0</td>\n    </tr>\n    <tr>\n      <th>2</th>\n      <td>2005-11-29 21:35:52</td>\n      <td>0</td>\n    </tr>\n    <tr>\n      <th>3</th>\n      <td>2005-11-29 21:36:12</td>\n      <td>0</td>\n    </tr>\n    <tr>\n      <th>4</th>\n      <td>2005-11-29 21:36:32</td>\n      <td>0</td>\n    </tr>\n    <tr>\n      <th>...</th>\n      <td>...</td>\n      <td>...</td>\n    </tr>\n    <tr>\n      <th>2002</th>\n      <td>2005-11-29 08:42:32</td>\n      <td>0</td>\n    </tr>\n    <tr>\n      <th>2003</th>\n      <td>2005-11-29 08:42:52</td>\n      <td>0</td>\n    </tr>\n    <tr>\n      <th>2004</th>\n      <td>2005-11-29 08:43:12</td>\n      <td>0</td>\n    </tr>\n    <tr>\n      <th>2005</th>\n      <td>2005-11-29 08:43:32</td>\n      <td>0</td>\n    </tr>\n    <tr>\n      <th>2006</th>\n      <td>2005-11-29 08:43:52</td>\n      <td>0</td>\n    </tr>\n  </tbody>\n</table>\n<p>2007 rows × 2 columns</p>\n</div>"
     },
     "execution_count": 4,
     "metadata": {},
     "output_type": "execute_result"
    }
   ],
   "source": [
    "name = edf_dir +'//'+ edfs_names[0] + '_stages.txt'\n",
    "record_day = pd.to_datetime(date_from_comment(name))\n",
    "begining_of_time = pd.to_datetime('1900-01-01')\n",
    "day_shift = record_day - begining_of_time\n",
    "stages = pd.read_csv(name, comment='%', delimiter='\t', index_col=0).drop('Unnamed: 3', axis=1)\n",
    "stages['Time'] = pd.to_datetime(stages['Time'], format='%H:%M:%S') + day_shift\n",
    "stages.index = stages.index -1\n",
    "stages"
   ],
   "metadata": {
    "collapsed": false,
    "ExecuteTime": {
     "end_time": "2023-05-31T13:10:27.803357999Z",
     "start_time": "2023-05-31T13:10:27.779118659Z"
    }
   }
  },
  {
   "cell_type": "markdown",
   "source": [
    "Getting counted stages from all files without dates"
   ],
   "metadata": {
    "collapsed": false
   }
  },
  {
   "cell_type": "code",
   "execution_count": 5,
   "outputs": [],
   "source": [
    "import os\n",
    "all_files = os.listdir(edf_dir)\n",
    "big_edf_files = list(filter(lambda x: 'EDF' in x, all_files))\n",
    "newnames = []\n",
    "for name in big_edf_files:\n",
    "    ind = name.index('EDF')\n",
    "\n",
    "    newname = name[:ind] + 'edf' + name[ind+3:]\n",
    "    newnames.append(newname)\n",
    "for (x,y) in (zip(big_edf_files, newnames)):\n",
    "    print('changing name of {x}')\n",
    "    os.rename(edf_dir + '//' + x,edf_dir + '//' + y)\n"
   ],
   "metadata": {
    "collapsed": false,
    "ExecuteTime": {
     "end_time": "2023-05-31T13:10:27.803879380Z",
     "start_time": "2023-05-31T13:10:27.793448748Z"
    }
   }
  },
  {
   "cell_type": "code",
   "execution_count": 6,
   "outputs": [],
   "source": [
    "os.rename(*('rere.txt','requirements.txt'))"
   ],
   "metadata": {
    "collapsed": false,
    "ExecuteTime": {
     "end_time": "2023-05-31T13:10:27.854217327Z",
     "start_time": "2023-05-31T13:10:27.796838987Z"
    }
   }
  },
  {
   "cell_type": "code",
   "execution_count": 7,
   "outputs": [
    {
     "name": "stdout",
     "output_type": "stream",
     "text": [
      "Jean-Pol_repaired_headers//CP229110.edf_stages.txt\n",
      "Jean-Pol_repaired_headers//WD224010.edf_stages.txt\n",
      "Jean-Pol_repaired_headers//TK221110.edf_stages.txt\n",
      "Jean-Pol_repaired_headers//VP214110.edf_stages.txt\n",
      "Jean-Pol_repaired_headers//CN223100.edf_stages.txt\n",
      "Jean-Pol_repaired_headers//LM230010.edf_stages.txt\n",
      "Jean-Pol_repaired_headers//VC209100.edf_stages.txt\n",
      "Jean-Pol_repaired_headers//LA216100.edf_stages.txt\n",
      "Jean-Pol_repaired_headers//DG220020.edf_stages.txt\n",
      "Jean-Pol_repaired_headers//DO223050.edf_stages.txt\n",
      "Jean-Pol_repaired_headers//CX230050.edf_stages.txt\n"
     ]
    }
   ],
   "source": [
    "# cleaning from \"_wake\" and such\n",
    "edfs_names = [name for name in edfs_names if '_' not in name]\n",
    "all_stages = []\n",
    "for name in edfs_names:\n",
    "    fname = edf_dir +'//'+ name + '_stages.txt'\n",
    "    print(fname)\n",
    "    stages = pd.read_csv(fname, comment='%', delimiter='\t', index_col=0).drop('Unnamed: 3', axis=1)\n",
    "    raw_stages = np.copy(stages['stage'])\n",
    "    all_stages.extend(raw_stages)\n",
    "from collections import Counter\n",
    "counted = Counter(all_stages)\n",
    "\n"
   ],
   "metadata": {
    "collapsed": false,
    "ExecuteTime": {
     "end_time": "2023-05-31T13:10:27.862380431Z",
     "start_time": "2023-05-31T13:10:27.839069700Z"
    }
   }
  },
  {
   "cell_type": "code",
   "execution_count": 8,
   "outputs": [
    {
     "data": {
      "text/plain": "[<matplotlib.lines.Line2D at 0x7f287cadfa90>]"
     },
     "execution_count": 8,
     "metadata": {},
     "output_type": "execute_result"
    },
    {
     "data": {
      "text/plain": "<Figure size 640x480 with 1 Axes>",
      "image/png": "[encoded data removed]"
     },
     "metadata": {},
     "output_type": "display_data"
    }
   ],
   "source": [
    "import matplotlib.pyplot as plt\n",
    "sorted_keys = sorted(dict(counted).keys())\n",
    "counted = {k:counted[k] for k in sorted_keys}\n",
    "plt.plot(counted.keys(), counted.values())"
   ],
   "metadata": {
    "collapsed": false,
    "ExecuteTime": {
     "end_time": "2023-05-31T13:10:27.992915888Z",
     "start_time": "2023-05-31T13:10:27.839443437Z"
    }
   }
  },
  {
   "cell_type": "code",
   "execution_count": 9,
   "outputs": [
    {
     "data": {
      "text/plain": "{0: 3519, 1: 1127, 2: 8844, 3: 975, 4: 1310, 5: 3473}"
     },
     "execution_count": 9,
     "metadata": {},
     "output_type": "execute_result"
    }
   ],
   "source": [
    "counted"
   ],
   "metadata": {
    "collapsed": false,
    "ExecuteTime": {
     "end_time": "2023-05-31T13:10:28.118454776Z",
     "start_time": "2023-05-31T13:10:27.973957136Z"
    }
   }
  },
  {
   "cell_type": "code",
   "execution_count": 10,
   "outputs": [
    {
     "data": {
      "text/plain": "3519"
     },
     "execution_count": 10,
     "metadata": {},
     "output_type": "execute_result"
    }
   ],
   "source": [
    "dict(counted)[0]"
   ],
   "metadata": {
    "collapsed": false,
    "ExecuteTime": {
     "end_time": "2023-05-31T13:10:28.119204341Z",
     "start_time": "2023-05-31T13:10:28.019498085Z"
    }
   }
  },
  {
   "cell_type": "code",
   "execution_count": 11,
   "outputs": [
    {
     "name": "stdout",
     "output_type": "stream",
     "text": [
      "Extracting EDF parameters from /home/tadeusz/Desktop/Tadeusz/mgr_sleep_states/Jean-Pol_repaired_headers/CP229110.edf...\n",
      "EDF file detected\n",
      "Setting channel info structure...\n",
      "Creating raw.info structure...\n",
      "NOTE: pick_channels() is a legacy function. New code should use inst.pick(...).\n",
      "Extracting EDF parameters from /home/tadeusz/Desktop/Tadeusz/mgr_sleep_states/Jean-Pol_repaired_headers/WD224010.edf...\n",
      "EDF file detected\n",
      "Setting channel info structure...\n",
      "Creating raw.info structure...\n",
      "NOTE: pick_channels() is a legacy function. New code should use inst.pick(...).\n",
      "Extracting EDF parameters from /home/tadeusz/Desktop/Tadeusz/mgr_sleep_states/Jean-Pol_repaired_headers/TK221110.edf...\n",
      "EDF file detected\n",
      "Setting channel info structure...\n",
      "Creating raw.info structure...\n",
      "NOTE: pick_channels() is a legacy function. New code should use inst.pick(...).\n",
      "Extracting EDF parameters from /home/tadeusz/Desktop/Tadeusz/mgr_sleep_states/Jean-Pol_repaired_headers/VP214110.edf...\n",
      "EDF file detected\n",
      "Setting channel info structure...\n",
      "Creating raw.info structure...\n",
      "NOTE: pick_channels() is a legacy function. New code should use inst.pick(...).\n"
     ]
    },
    {
     "name": "stderr",
     "output_type": "stream",
     "text": [
      "/home/tadeusz/Desktop/Tadeusz/mgr_sleep_states/MyEDFImports.py:19: RuntimeWarning: Channel names are not unique, found duplicates for: {'CHIN EMG'}. Applying running numbers for duplicates.\n",
      "  raw = mne.io.read_raw_edf(path + \"//\" + name)\n",
      "/home/tadeusz/Desktop/Tadeusz/mgr_sleep_states/MyEDFImports.py:19: RuntimeWarning: Channel names are not unique, found duplicates for: {'CHIN EMG'}. Applying running numbers for duplicates.\n",
      "  raw = mne.io.read_raw_edf(path + \"//\" + name)\n"
     ]
    }
   ],
   "source": [
    "edfs = [import_ecg(edf) for edf in edfs_names[:4]]"
   ],
   "metadata": {
    "collapsed": false,
    "ExecuteTime": {
     "end_time": "2023-05-31T13:10:28.187423560Z",
     "start_time": "2023-05-31T13:10:28.020083257Z"
    }
   }
  },
  {
   "cell_type": "markdown",
   "source": [
    "Getting all data split into 20sec intervals"
   ],
   "metadata": {
    "collapsed": false
   }
  },
  {
   "cell_type": "code",
   "execution_count": 12,
   "outputs": [],
   "source": [
    "# name = edf_dir +'//'+ edfs_names[0] + '_stages.txt'\n",
    "for edf in edfs:\n",
    "    sampl_freq = edf.info[\"sfreq\"]\n",
    "    nr_windows = int(len(edf[0][1]) // sampl_freq // 20)\n",
    "    windows = []\n",
    "    for i in range(nr_windows):\n",
    "        windows.append(edf.time_as_index([20*i,20*(i+1)]))"
   ],
   "metadata": {
    "collapsed": false,
    "ExecuteTime": {
     "end_time": "2023-05-31T14:24:06.626287454Z",
     "start_time": "2023-05-31T13:10:28.179035570Z"
    }
   }
  },
  {
   "cell_type": "code",
   "execution_count": 13,
   "outputs": [
    {
     "name": "stdout",
     "output_type": "stream",
     "text": [
      "2005-11-29 21:35:12+00:00\n"
     ]
    }
   ],
   "source": [
    "for edf in edfs[:1]:\n",
    "    print(edf.info['meas_date'])"
   ],
   "metadata": {
    "collapsed": false,
    "ExecuteTime": {
     "end_time": "2023-05-31T14:24:06.627389538Z",
     "start_time": "2023-05-31T13:14:55.882948920Z"
    }
   }
  },
  {
   "cell_type": "code",
   "execution_count": 14,
   "outputs": [
    {
     "name": "stdout",
     "output_type": "stream",
     "text": [
      "CWT nr : 0\n",
      "CWT nr : 300\n",
      "CWT nr : 600\n",
      "CWT nr : 900\n",
      "CWT nr : 1200\n",
      "CWT nr : 1500\n",
      "CWT nr : 1800\n"
     ]
    }
   ],
   "source": [
    "import pywt\n",
    "raw = edfs[0]\n",
    "sampl_freq = raw.info[\"sfreq\"]\n",
    "windows = int(len(raw[0][1]) // sampl_freq // 20)\n",
    "atributes, frequencies = [], []\n",
    "for i in range(windows):\n",
    "\n",
    "    start_stop_ind = raw.time_as_index([20*i,20*(i+1)])\n",
    "    start = start_stop_ind[0]\n",
    "    stop = start_stop_ind[1]\n",
    "    y = raw[0,start:stop][0]\n",
    "    y = np.reshape(y,-1)\n",
    "    if i % 300 == 0:\n",
    "       print(\"CWT nr :\", i)\n",
    "    cwt_atr, cwt_freqs =  pywt.cwt(y, np.arange(1,129), WAVELETNAME)\n",
    "    atributes.append(cwt_atr)\n",
    "    frequencies.append(cwt_freqs)\n"
   ],
   "metadata": {
    "collapsed": false,
    "ExecuteTime": {
     "end_time": "2023-05-31T14:24:06.628944554Z",
     "start_time": "2023-05-31T13:14:55.883360106Z"
    }
   }
  },
  {
   "cell_type": "markdown",
   "source": [
    "2. CWT of 1 edf file calclulated in about 8 minutes and weighing over 15 GB."
   ],
   "metadata": {
    "collapsed": false
   }
  },
  {
   "cell_type": "markdown",
   "source": [
    "np.save('tempname2', [1,2,3])"
   ],
   "metadata": {
    "collapsed": false
   }
  },
  {
   "cell_type": "markdown",
   "source": [
    "filename = \"tempname\"\n",
    "with open(filename, 'wb') as f:\n",
    "\n",
    "    np.save(f, atributes)"
   ],
   "metadata": {
    "collapsed": false
   }
  },
  {
   "cell_type": "code",
   "execution_count": 14,
   "outputs": [],
   "source": [],
   "metadata": {
    "collapsed": false,
    "ExecuteTime": {
     "end_time": "2023-05-31T14:24:06.629272239Z",
     "start_time": "2023-05-31T13:24:48.111928413Z"
    }
   }
  },
  {
   "cell_type": "code",
   "execution_count": 15,
   "outputs": [
    {
     "ename": "NameError",
     "evalue": "name 'sizeof' is not defined",
     "output_type": "error",
     "traceback": [
      "\u001B[0;31m---------------------------------------------------------------------------\u001B[0m",
      "\u001B[0;31mNameError\u001B[0m                                 Traceback (most recent call last)",
      "Cell \u001B[0;32mIn[15], line 1\u001B[0m\n\u001B[0;32m----> 1\u001B[0m \u001B[43msizeof\u001B[49m(frequencies)\n",
      "\u001B[0;31mNameError\u001B[0m: name 'sizeof' is not defined"
     ]
    }
   ],
   "source": [
    "sizeof(frequencies)"
   ],
   "metadata": {
    "collapsed": false,
    "ExecuteTime": {
     "end_time": "2023-05-31T14:24:06.629741972Z",
     "start_time": "2023-05-31T13:24:48.154950932Z"
    }
   }
  },
  {
   "cell_type": "code",
   "execution_count": null,
   "outputs": [],
   "source": [
    "sizeof(atributes) // sizeof(frequencies)"
   ],
   "metadata": {
    "collapsed": false,
    "ExecuteTime": {
     "start_time": "2023-05-31T13:24:48.566210573Z"
    }
   }
  },
  {
   "cell_type": "markdown",
   "source": [
    "atr = np.array(atributes)\n",
    "frequencies = np.array(frequencies)"
   ],
   "metadata": {
    "collapsed": false
   }
  },
  {
   "cell_type": "markdown",
   "source": [
    "atr = [o.shape for o in frequencies]\n",
    "np.all(atr == tuple(128))"
   ],
   "metadata": {
    "collapsed": false
   }
  },
  {
   "cell_type": "markdown",
   "source": [
    "type(atr[0])"
   ],
   "metadata": {
    "collapsed": false
   }
  },
  {
   "cell_type": "markdown",
   "source": [
    "# here i want to have divided in 20s\n",
    "twenty_sec = edfs[0].crop(0,20)\n",
    "twenty_sec_2 = edfs[0].crop(20,40)\n",
    "import matplotlib.pyplot as plt\n",
    "plt.plot(twenty_sec[0][0].T)"
   ],
   "metadata": {
    "collapsed": false
   }
  }
 ],
 "metadata": {
  "kernelspec": {
   "display_name": "Python 3",
   "language": "python",
   "name": "python3"
  },
  "language_info": {
   "codemirror_mode": {
    "name": "ipython",
    "version": 2
   },
   "file_extension": ".py",
   "mimetype": "text/x-python",
   "name": "python",
   "nbconvert_exporter": "python",
   "pygments_lexer": "ipython2",
   "version": "2.7.6"
  }
 },
 "nbformat": 4,
 "nbformat_minor": 0
}
