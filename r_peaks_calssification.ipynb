{
 "cells": [
  {
   "cell_type": "code",
   "execution_count": 1,
   "metadata": {
    "collapsed": true,
    "ExecuteTime": {
     "end_time": "2023-08-21T10:59:33.845139207Z",
     "start_time": "2023-08-21T10:59:31.327893426Z"
    }
   },
   "outputs": [],
   "source": [
    "import pywt\n",
    "\n",
    "import MyEDFImports as m\n",
    "import numpy as np\n",
    "import matplotlib.pyplot as plt\n",
    "import neurokit2"
   ]
  },
  {
   "cell_type": "code",
   "execution_count": 2,
   "outputs": [
    {
     "name": "stdout",
     "output_type": "stream",
     "text": [
      "Extracting EDF parameters from /home/tadeusz/Desktop/Tadeusz/mgr_sleep_states/Jean-Pol_repaired_headers/CN223100.edf...\n",
      "EDF file detected\n",
      "Setting channel info structure...\n",
      "Creating raw.info structure...\n",
      "NOTE: pick_channels() is a legacy function. New code should use inst.pick(...).\n",
      "Extracting EDF parameters from /home/tadeusz/Desktop/Tadeusz/mgr_sleep_states/Jean-Pol_repaired_headers/CP229110.edf...\n",
      "EDF file detected\n",
      "Setting channel info structure...\n",
      "Creating raw.info structure...\n",
      "NOTE: pick_channels() is a legacy function. New code should use inst.pick(...).\n",
      "Extracting EDF parameters from /home/tadeusz/Desktop/Tadeusz/mgr_sleep_states/Jean-Pol_repaired_headers/CX230050.edf...\n",
      "EDF file detected\n",
      "Setting channel info structure...\n",
      "Creating raw.info structure...\n",
      "NOTE: pick_channels() is a legacy function. New code should use inst.pick(...).\n",
      "Extracting EDF parameters from /home/tadeusz/Desktop/Tadeusz/mgr_sleep_states/Jean-Pol_repaired_headers/DG220020.edf...\n",
      "EDF file detected\n",
      "Setting channel info structure...\n",
      "Creating raw.info structure...\n"
     ]
    },
    {
     "name": "stderr",
     "output_type": "stream",
     "text": [
      "/home/tadeusz/Desktop/Tadeusz/mgr_sleep_states/MyEDFImports.py:42: RuntimeWarning: Channel names are not unique, found duplicates for: {'CHIN EMG'}. Applying running numbers for duplicates.\n",
      "  raw = mne.io.read_raw_edf(path + \"//\" + name)\n"
     ]
    },
    {
     "name": "stdout",
     "output_type": "stream",
     "text": [
      "NOTE: pick_channels() is a legacy function. New code should use inst.pick(...).\n",
      "Extracting EDF parameters from /home/tadeusz/Desktop/Tadeusz/mgr_sleep_states/Jean-Pol_repaired_headers/DO223050.edf...\n",
      "EDF file detected\n",
      "Setting channel info structure...\n",
      "Creating raw.info structure...\n",
      "NOTE: pick_channels() is a legacy function. New code should use inst.pick(...).\n",
      "Extracting EDF parameters from /home/tadeusz/Desktop/Tadeusz/mgr_sleep_states/Jean-Pol_repaired_headers/LA216100.edf...\n",
      "EDF file detected\n",
      "Setting channel info structure...\n",
      "Creating raw.info structure...\n",
      "NOTE: pick_channels() is a legacy function. New code should use inst.pick(...).\n",
      "Extracting EDF parameters from /home/tadeusz/Desktop/Tadeusz/mgr_sleep_states/Jean-Pol_repaired_headers/LM230010.edf...\n",
      "EDF file detected\n",
      "Setting channel info structure...\n",
      "Creating raw.info structure...\n",
      "NOTE: pick_channels() is a legacy function. New code should use inst.pick(...).\n",
      "Extracting EDF parameters from /home/tadeusz/Desktop/Tadeusz/mgr_sleep_states/Jean-Pol_repaired_headers/TK221110.edf...\n",
      "EDF file detected\n",
      "Setting channel info structure...\n",
      "Creating raw.info structure...\n",
      "NOTE: pick_channels() is a legacy function. New code should use inst.pick(...).\n",
      "Extracting EDF parameters from /home/tadeusz/Desktop/Tadeusz/mgr_sleep_states/Jean-Pol_repaired_headers/VC209100.edf...\n",
      "EDF file detected\n",
      "Setting channel info structure...\n",
      "Creating raw.info structure...\n",
      "NOTE: pick_channels() is a legacy function. New code should use inst.pick(...).\n",
      "Extracting EDF parameters from /home/tadeusz/Desktop/Tadeusz/mgr_sleep_states/Jean-Pol_repaired_headers/VP214110.edf...\n",
      "EDF file detected\n",
      "Setting channel info structure...\n",
      "Creating raw.info structure...\n",
      "NOTE: pick_channels() is a legacy function. New code should use inst.pick(...).\n",
      "Extracting EDF parameters from /home/tadeusz/Desktop/Tadeusz/mgr_sleep_states/Jean-Pol_repaired_headers/WD224010.edf...\n",
      "EDF file detected\n",
      "Setting channel info structure...\n",
      "Creating raw.info structure...\n",
      "NOTE: pick_channels() is a legacy function. New code should use inst.pick(...).\n"
     ]
    },
    {
     "name": "stderr",
     "output_type": "stream",
     "text": [
      "/home/tadeusz/Desktop/Tadeusz/mgr_sleep_states/MyEDFImports.py:42: RuntimeWarning: Channel names are not unique, found duplicates for: {'CHIN EMG'}. Applying running numbers for duplicates.\n",
      "  raw = mne.io.read_raw_edf(path + \"//\" + name)\n"
     ]
    },
    {
     "name": "stdout",
     "output_type": "stream",
     "text": [
      "<RawEDF | CN223100.edf, 1 x 15611000 (31222.0 s), ~6 kB, data not loaded> with 1561 windows\n",
      "<RawEDF | CP229110.edf, 1 x 20078000 (40156.0 s), ~6 kB, data not loaded> with 2007 windows\n",
      "importing inverted file: CP229110.edf\n",
      "/home/tadeusz/Desktop/Tadeusz/mgr_sleep_states/Jean-Pol_repaired_headers/CP229110.edf\n",
      "<RawEDF | CX230050.edf, 1 x 17981000 (35962.0 s), ~6 kB, data not loaded> with 1798 windows\n",
      "<RawEDF | DG220020.edf, 1 x 17756000 (35512.0 s), ~6 kB, data not loaded> with 1775 windows\n",
      "<RawEDF | DO223050.edf, 1 x 18066500 (36133.0 s), ~6 kB, data not loaded> with 1806 windows\n",
      "<RawEDF | LA216100.edf, 1 x 16333500 (32667.0 s), ~6 kB, data not loaded> with 1633 windows\n",
      "<RawEDF | LM230010.edf, 1 x 17246500 (34493.0 s), ~6 kB, data not loaded> with 1724 windows\n",
      "<RawEDF | TK221110.edf, 1 x 15991000 (31982.0 s), ~6 kB, data not loaded> with 1599 windows\n",
      "<RawEDF | VC209100.edf, 1 x 18434500 (36869.0 s), ~6 kB, data not loaded> with 1843 windows\n",
      "<RawEDF | VP214110.edf, 1 x 17252500 (34505.0 s), ~6 kB, data not loaded> with 1725 windows\n",
      "<RawEDF | WD224010.edf, 1 x 17774000 (35548.0 s), ~6 kB, data not loaded> with 1777 windows\n",
      "loading from /home/tadeusz/Desktop/Tadeusz/mgr_sleep_states/Jean-Pol_repaired_headers//CN223100.edf_stages.txt\n",
      "loading from /home/tadeusz/Desktop/Tadeusz/mgr_sleep_states/Jean-Pol_repaired_headers//CP229110.edf_stages.txt\n",
      "loading from /home/tadeusz/Desktop/Tadeusz/mgr_sleep_states/Jean-Pol_repaired_headers//CX230050.edf_stages.txt\n",
      "loading from /home/tadeusz/Desktop/Tadeusz/mgr_sleep_states/Jean-Pol_repaired_headers//DG220020.edf_stages.txt\n",
      "loading from /home/tadeusz/Desktop/Tadeusz/mgr_sleep_states/Jean-Pol_repaired_headers//DO223050.edf_stages.txt\n",
      "loading from /home/tadeusz/Desktop/Tadeusz/mgr_sleep_states/Jean-Pol_repaired_headers//LA216100.edf_stages.txt\n",
      "loading from /home/tadeusz/Desktop/Tadeusz/mgr_sleep_states/Jean-Pol_repaired_headers//LM230010.edf_stages.txt\n",
      "loading from /home/tadeusz/Desktop/Tadeusz/mgr_sleep_states/Jean-Pol_repaired_headers//TK221110.edf_stages.txt\n",
      "loading from /home/tadeusz/Desktop/Tadeusz/mgr_sleep_states/Jean-Pol_repaired_headers//VC209100.edf_stages.txt\n",
      "loading from /home/tadeusz/Desktop/Tadeusz/mgr_sleep_states/Jean-Pol_repaired_headers//VP214110.edf_stages.txt\n",
      "loading from /home/tadeusz/Desktop/Tadeusz/mgr_sleep_states/Jean-Pol_repaired_headers//WD224010.edf_stages.txt\n"
     ]
    },
    {
     "data": {
      "text/plain": "(19248, 10000)"
     },
     "execution_count": 2,
     "metadata": {},
     "output_type": "execute_result"
    }
   ],
   "source": [
    "data = m.load_all_data()\n",
    "labels = m.load_all_labels()\n",
    "data.shape"
   ],
   "metadata": {
    "collapsed": false,
    "ExecuteTime": {
     "end_time": "2023-08-21T10:59:48.912694788Z",
     "start_time": "2023-08-21T10:59:33.846680004Z"
    }
   }
  },
  {
   "cell_type": "code",
   "execution_count": 3,
   "outputs": [],
   "source": [
    "def remove_from_data(data, mask):\n",
    "    assert len(data) == len(mask)\n",
    "    if type(data) == np.ndarray:\n",
    "        mask = np.array(mask)\n",
    "        return data[mask]\n",
    "    if type(data) == list:\n",
    "        return [a for a, b in zip(data, mask) if b == True]\n"
   ],
   "metadata": {
    "collapsed": false,
    "ExecuteTime": {
     "end_time": "2023-08-21T10:59:48.913614822Z",
     "start_time": "2023-08-21T10:59:48.912361497Z"
    }
   }
  },
  {
   "cell_type": "code",
   "execution_count": 4,
   "outputs": [],
   "source": [
    "def make_wide_windows(datapoints,labels, win_pad=2):\n",
    "    labels = labels[win_pad:-win_pad]\n",
    "    n_wide_points = datapoints.shape[0] - win_pad * 2\n",
    "    wide_window_len = (win_pad * 2 + 1) * datapoints.shape[1]\n",
    "    data_wide = np.zeros(shape=(n_wide_points, wide_window_len))\n",
    "    for i in range(win_pad, (len(data_wide) + win_pad)):\n",
    "        if i + 1 % 300 == 0:\n",
    "            print(i + 1)\n",
    "        wide_win = np.concatenate(datapoints[i - win_pad:i + win_pad + 1])\n",
    "        data_wide[i - win_pad] = wide_win\n",
    "    return data_wide, labels"
   ],
   "metadata": {
    "collapsed": false,
    "ExecuteTime": {
     "end_time": "2023-08-21T10:59:48.981145378Z",
     "start_time": "2023-08-21T10:59:48.912898949Z"
    }
   }
  },
  {
   "cell_type": "code",
   "execution_count": 5,
   "outputs": [],
   "source": [
    "def get_r_peaks(data):\n",
    "    r_peaks_wide = []\n",
    "    for d in data:\n",
    "        try:\n",
    "            new_peaks = neurokit2.ecg_peaks(d, sampling_rate=500)[1]['ECG_R_Peaks']\n",
    "            r_peaks_wide.append(new_peaks)\n",
    "        except:\n",
    "            r_peaks_wide.append([])\n",
    "    return r_peaks_wide"
   ],
   "metadata": {
    "collapsed": false,
    "ExecuteTime": {
     "end_time": "2023-08-21T10:59:48.987969442Z",
     "start_time": "2023-08-21T10:59:48.926720816Z"
    }
   }
  },
  {
   "cell_type": "code",
   "execution_count": 8,
   "outputs": [],
   "source": [
    "#if detected bpm is less than 30 sth is off\n",
    "#most commoom beat is one every seconde if there is less than\n",
    "def where_not_30bpm(peaks_list, len_data):\n",
    "    nr_seconds = len_data / 500\n",
    "    where_less_than_half = np.array([len(p) > (nr_seconds / 2) for p in peaks_list])\n",
    "    prcnt_discarded = sum(where_less_than_half) / len(where_less_than_half)\n",
    "\n",
    "    print(prcnt_discarded * 100)\n",
    "    return where_less_than_half"
   ],
   "metadata": {
    "collapsed": false,
    "ExecuteTime": {
     "end_time": "2023-08-21T11:03:33.160096776Z",
     "start_time": "2023-08-21T11:03:33.151501115Z"
    }
   }
  },
  {
   "cell_type": "code",
   "execution_count": 9,
   "outputs": [],
   "source": [
    "data_wide, labels_wide= make_wide_windows(data, labels)\n",
    "r_peaks_wide = get_r_peaks(data_wide)"
   ],
   "metadata": {
    "collapsed": false,
    "ExecuteTime": {
     "end_time": "2023-08-21T11:04:41.220743568Z",
     "start_time": "2023-08-21T11:03:35.241071112Z"
    }
   }
  },
  {
   "cell_type": "code",
   "execution_count": 11,
   "outputs": [
    {
     "name": "stdout",
     "output_type": "stream",
     "text": [
      "99.62585741010184\n"
     ]
    },
    {
     "ename": "AssertionError",
     "evalue": "",
     "output_type": "error",
     "traceback": [
      "\u001B[0;31m---------------------------------------------------------------------------\u001B[0m",
      "\u001B[0;31mAssertionError\u001B[0m                            Traceback (most recent call last)",
      "Cell \u001B[0;32mIn[11], line 4\u001B[0m\n\u001B[1;32m      2\u001B[0m \u001B[38;5;66;03m# removing bad data from datapoints, labels and peaks\u001B[39;00m\n\u001B[1;32m      3\u001B[0m data_filtered \u001B[38;5;241m=\u001B[39m remove_from_data(data_wide, where_more_than_30bpm)\n\u001B[0;32m----> 4\u001B[0m labels_filtered \u001B[38;5;241m=\u001B[39m \u001B[43mremove_from_data\u001B[49m\u001B[43m(\u001B[49m\u001B[43mlabels\u001B[49m\u001B[43m,\u001B[49m\u001B[43m \u001B[49m\u001B[43mwhere_more_than_30bpm\u001B[49m\u001B[43m)\u001B[49m\n\u001B[1;32m      5\u001B[0m r_peaks_filtered \u001B[38;5;241m=\u001B[39m remove_from_data(r_peaks_wide, where_more_than_30bpm)\n\u001B[1;32m      6\u001B[0m \u001B[38;5;66;03m# calculating differences\u001B[39;00m\n",
      "Cell \u001B[0;32mIn[3], line 2\u001B[0m, in \u001B[0;36mremove_from_data\u001B[0;34m(data, mask)\u001B[0m\n\u001B[1;32m      1\u001B[0m \u001B[38;5;28;01mdef\u001B[39;00m \u001B[38;5;21mremove_from_data\u001B[39m(data, mask):\n\u001B[0;32m----> 2\u001B[0m     \u001B[38;5;28;01massert\u001B[39;00m \u001B[38;5;28mlen\u001B[39m(data) \u001B[38;5;241m==\u001B[39m \u001B[38;5;28mlen\u001B[39m(mask)\n\u001B[1;32m      3\u001B[0m     \u001B[38;5;28;01mif\u001B[39;00m \u001B[38;5;28mtype\u001B[39m(data) \u001B[38;5;241m==\u001B[39m np\u001B[38;5;241m.\u001B[39mndarray:\n\u001B[1;32m      4\u001B[0m         mask \u001B[38;5;241m=\u001B[39m np\u001B[38;5;241m.\u001B[39marray(mask)\n",
      "\u001B[0;31mAssertionError\u001B[0m: "
     ]
    }
   ],
   "source": [
    "where_more_than_30bpm = where_not_30bpm(r_peaks_wide, len_data=data_wide.shape[1])\n",
    "# removing bad data from datapoints, labels and peaks\n",
    "data_filtered = remove_from_data(data_wide, where_more_than_30bpm)\n",
    "labels_filtered = remove_from_data(labels, where_more_than_30bpm)\n",
    "r_peaks_filtered = remove_from_data(r_peaks_wide, where_more_than_30bpm)\n",
    "# calculating differences\n",
    "r_peaks_diffs = [np.diff(d) for d in r_peaks_filtered]\n",
    "assert(len(r_peaks_diffs) == len(labels_filtered))"
   ],
   "metadata": {
    "collapsed": false,
    "ExecuteTime": {
     "end_time": "2023-08-21T11:10:45.761750330Z",
     "start_time": "2023-08-21T11:10:40.409447858Z"
    }
   }
  },
  {
   "cell_type": "code",
   "execution_count": null,
   "outputs": [],
   "source": [
    "def calculate_cwt(data):\n",
    "    scales = np.arange(1,100)\n",
    "    wavelet = 'cmor'\n",
    "    coef_p, freq_p = pywt.cwt(data, scales, wavelet)\n",
    "    abs_coefs = np.abs(coef_p)\n",
    "    return abs_coefs\n"
   ],
   "metadata": {
    "collapsed": false
   }
  },
  {
   "cell_type": "code",
   "execution_count": null,
   "outputs": [],
   "source": [
    "ex = r_peaks_diffs[1454]\n",
    "ex_cwt = calculate_cwt(ex)\n",
    "plt.imshow(ex_cwt, cmap='jet', aspect='auto',\n",
    "               vmax=abs(ex_cwt).max(), )"
   ],
   "metadata": {
    "collapsed": false
   }
  },
  {
   "cell_type": "code",
   "execution_count": null,
   "outputs": [],
   "source": [
    "sus = data_wide[17006]\n",
    "plt.plot(sus)\n",
    "plt.plot(ex_cleaned)\n",
    "sus_peaks = neurokit2.ecg_peaks(ex_cleaned[:15000], sampling_rate=500)\n",
    "sus_peaks"
   ],
   "metadata": {
    "collapsed": false
   }
  },
  {
   "cell_type": "code",
   "execution_count": null,
   "outputs": [],
   "source": [
    "noise = np.concatenate(data[17001:17026])\n",
    "plt.plot(noise)\n",
    "plt.plot(data[110])"
   ],
   "metadata": {
    "collapsed": false
   }
  },
  {
   "cell_type": "code",
   "execution_count": null,
   "outputs": [],
   "source": [
    "sus_peaks = neurokit2.ecg_peaks(ex_cleaned[:10000])"
   ],
   "metadata": {
    "collapsed": false
   }
  },
  {
   "cell_type": "code",
   "execution_count": null,
   "outputs": [],
   "source": [
    "def plot_with_peaks(y, r_peaks, detector_name='nodetect', sampling_freq=500):\n",
    "    # convert sample to nr to time\n",
    "    r_ts = np.array(r_peaks) / sampling_freq\n",
    "    # plotting\n",
    "    plt.figure()\n",
    "    t = np.linspace(0, len(y) / sampling_freq, len(y))\n",
    "    plt.plot(t, y)\n",
    "    plt.plot(r_ts, y[r_peaks], 'ro')\n",
    "    plt.title(f\"{detector_name}\")\n",
    "    plt.ylabel(\"ECG/mV\")\n",
    "    plt.xlabel(\"time/sec\")\n",
    "    plt.show()"
   ],
   "metadata": {
    "collapsed": false
   }
  },
  {
   "cell_type": "code",
   "execution_count": null,
   "outputs": [],
   "source": [
    "ex_data = data_wide[100]\n",
    "ex = neurokit2.ecg_peaks(ex_data, sampling_rate=500)[1]['ECG_R_Peaks']\n",
    "plot_with_peaks(ex_data, ex)"
   ],
   "metadata": {
    "collapsed": false
   }
  }
 ],
 "metadata": {
  "kernelspec": {
   "display_name": "Python 3",
   "language": "python",
   "name": "python3"
  },
  "language_info": {
   "codemirror_mode": {
    "name": "ipython",
    "version": 2
   },
   "file_extension": ".py",
   "mimetype": "text/x-python",
   "name": "python",
   "nbconvert_exporter": "python",
   "pygments_lexer": "ipython2",
   "version": "2.7.6"
  }
 },
 "nbformat": 4,
 "nbformat_minor": 0
}
